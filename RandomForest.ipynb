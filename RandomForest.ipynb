# Data Processing
import pandas as pd
import numpy as np

# Modelling
from sklearn.ensemble import RandomForestClassifier
from sklearn.metrics import accuracy_score, confusion_matrix, precision_score, recall_score, ConfusionMatrixDisplay
from sklearn.model_selection import RandomizedSearchCV, train_test_split
from scipy.stats import randint

# Tree Visualisation
from sklearn.tree import export_graphviz
from IPython.display import Image
# Load the dataset
dataset = pd.read_csv('D:\coding\python\ml\Iris.csv')

# Split the dataset into training and testng sets
x = dataset.drop('Species', axis=1) #Features
y = dataset['Species'] # Target variable
# Create a logistic regression classifier
clf = RandomForestClassifier()

# Split into train and test sets
x_train, x_test, y_train, y_test = train_test_split(x, y, test_size=0.33 )

# Train the classifier on the traning data
clf.fit(x_train, y_train)

# Predict the target variable for the testing data
y_pred = clf.predict(x_test)

# Evaluate the accuracy of the classifier 
accuracy = accuracy_score(y_test, y_pred)
print('Accuracy:', accuracy)
